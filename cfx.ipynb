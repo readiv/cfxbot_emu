{
 "cells": [
  {
   "cell_type": "code",
   "execution_count": 2,
   "metadata": {},
   "outputs": [],
   "source": [
    "import pandas as pd"
   ]
  },
  {
   "cell_type": "code",
   "execution_count": 54,
   "metadata": {
    "scrolled": true
   },
   "outputs": [
    {
     "data": {
      "text/html": [
       "<div>\n",
       "<style scoped>\n",
       "    .dataframe tbody tr th:only-of-type {\n",
       "        vertical-align: middle;\n",
       "    }\n",
       "\n",
       "    .dataframe tbody tr th {\n",
       "        vertical-align: top;\n",
       "    }\n",
       "\n",
       "    .dataframe thead th {\n",
       "        text-align: right;\n",
       "    }\n",
       "</style>\n",
       "<table border=\"1\" class=\"dataframe\">\n",
       "  <thead>\n",
       "    <tr style=\"text-align: right;\">\n",
       "      <th></th>\n",
       "      <th>id</th>\n",
       "      <th>diff</th>\n",
       "      <th>max_price</th>\n",
       "      <th>p_n_EU</th>\n",
       "      <th>p_o_EU</th>\n",
       "      <th>p_n_EU_N</th>\n",
       "      <th>p_o_EU_N</th>\n",
       "      <th>p_n_USA</th>\n",
       "      <th>p_o_USA</th>\n",
       "      <th>p_n_USA_E</th>\n",
       "      <th>p_o_USA_E</th>\n",
       "    </tr>\n",
       "  </thead>\n",
       "  <tbody>\n",
       "    <tr>\n",
       "      <th>0</th>\n",
       "      <td>1</td>\n",
       "      <td>1.51692</td>\n",
       "      <td>2.119579</td>\n",
       "      <td>1.9045</td>\n",
       "      <td>0.0</td>\n",
       "      <td>1.9183</td>\n",
       "      <td>0.0</td>\n",
       "      <td>1.9938</td>\n",
       "      <td>0.0</td>\n",
       "      <td>1.9689</td>\n",
       "      <td>0.0</td>\n",
       "    </tr>\n",
       "    <tr>\n",
       "      <th>1</th>\n",
       "      <td>2</td>\n",
       "      <td>1.51692</td>\n",
       "      <td>2.119579</td>\n",
       "      <td>1.9051</td>\n",
       "      <td>0.0</td>\n",
       "      <td>1.9189</td>\n",
       "      <td>0.0</td>\n",
       "      <td>1.9944</td>\n",
       "      <td>0.0</td>\n",
       "      <td>1.9695</td>\n",
       "      <td>0.0</td>\n",
       "    </tr>\n",
       "    <tr>\n",
       "      <th>2</th>\n",
       "      <td>3</td>\n",
       "      <td>1.51692</td>\n",
       "      <td>2.117300</td>\n",
       "      <td>1.8818</td>\n",
       "      <td>0.0</td>\n",
       "      <td>1.8930</td>\n",
       "      <td>0.0</td>\n",
       "      <td>1.9734</td>\n",
       "      <td>0.0</td>\n",
       "      <td>1.9421</td>\n",
       "      <td>0.0</td>\n",
       "    </tr>\n",
       "    <tr>\n",
       "      <th>3</th>\n",
       "      <td>4</td>\n",
       "      <td>1.51692</td>\n",
       "      <td>2.117300</td>\n",
       "      <td>1.8792</td>\n",
       "      <td>0.0</td>\n",
       "      <td>1.8889</td>\n",
       "      <td>0.0</td>\n",
       "      <td>1.9555</td>\n",
       "      <td>0.0</td>\n",
       "      <td>1.9413</td>\n",
       "      <td>0.0</td>\n",
       "    </tr>\n",
       "    <tr>\n",
       "      <th>4</th>\n",
       "      <td>5</td>\n",
       "      <td>1.51692</td>\n",
       "      <td>2.117300</td>\n",
       "      <td>1.8792</td>\n",
       "      <td>0.0</td>\n",
       "      <td>1.8889</td>\n",
       "      <td>0.0</td>\n",
       "      <td>1.9555</td>\n",
       "      <td>0.0</td>\n",
       "      <td>1.9413</td>\n",
       "      <td>0.0</td>\n",
       "    </tr>\n",
       "  </tbody>\n",
       "</table>\n",
       "</div>"
      ],
      "text/plain": [
       "   id     diff  max_price  p_n_EU  p_o_EU  p_n_EU_N  p_o_EU_N  p_n_USA  \\\n",
       "0   1  1.51692   2.119579  1.9045     0.0    1.9183       0.0   1.9938   \n",
       "1   2  1.51692   2.119579  1.9051     0.0    1.9189       0.0   1.9944   \n",
       "2   3  1.51692   2.117300  1.8818     0.0    1.8930       0.0   1.9734   \n",
       "3   4  1.51692   2.117300  1.8792     0.0    1.8889       0.0   1.9555   \n",
       "4   5  1.51692   2.117300  1.8792     0.0    1.8889       0.0   1.9555   \n",
       "\n",
       "   p_o_USA  p_n_USA_E  p_o_USA_E  \n",
       "0      0.0     1.9689        0.0  \n",
       "1      0.0     1.9695        0.0  \n",
       "2      0.0     1.9421        0.0  \n",
       "3      0.0     1.9413        0.0  \n",
       "4      0.0     1.9413        0.0  "
      ]
     },
     "execution_count": 54,
     "metadata": {},
     "output_type": "execute_result"
    }
   ],
   "source": [
    "df= pd.read_csv(\"c:\\_prj\\cfxbot\\log-order.csv\")\n",
    "df.head()"
   ]
  },
  {
   "cell_type": "code",
   "execution_count": 7,
   "metadata": {},
   "outputs": [
    {
     "name": "stdout",
     "output_type": "stream",
     "text": [
      "Using matplotlib backend: Qt5Agg\n"
     ]
    }
   ],
   "source": [
    "%matplotlib"
   ]
  },
  {
   "cell_type": "code",
   "execution_count": 55,
   "metadata": {
    "scrolled": true
   },
   "outputs": [
    {
     "data": {
      "text/plain": [
       "<AxesSubplot:xlabel='id'>"
      ]
     },
     "execution_count": 55,
     "metadata": {},
     "output_type": "execute_result"
    }
   ],
   "source": [
    "df.plot(x=\"id\", y=[\"diff\",\"max_price\",\"p_n_EU\",\"p_o_EU\"])#,\"p_n_EU_N\",\"p_o_EU_N\",\"p_n_USA\",\"p_o_USA\",\"p_n_USA_E\",\"p_o_USA_E\"])"
   ]
  },
  {
   "cell_type": "code",
   "execution_count": null,
   "metadata": {},
   "outputs": [],
   "source": []
  },
  {
   "cell_type": "code",
   "execution_count": null,
   "metadata": {},
   "outputs": [],
   "source": []
  },
  {
   "cell_type": "code",
   "execution_count": null,
   "metadata": {},
   "outputs": [],
   "source": []
  }
 ],
 "metadata": {
  "kernelspec": {
   "display_name": "Python 3",
   "language": "python",
   "name": "python3"
  },
  "language_info": {
   "codemirror_mode": {
    "name": "ipython",
    "version": 3
   },
   "file_extension": ".py",
   "mimetype": "text/x-python",
   "name": "python",
   "nbconvert_exporter": "python",
   "pygments_lexer": "ipython3",
   "version": "3.8.5"
  }
 },
 "nbformat": 4,
 "nbformat_minor": 4
}
